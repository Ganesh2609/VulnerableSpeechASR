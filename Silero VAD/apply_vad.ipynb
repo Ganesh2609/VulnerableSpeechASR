{
 "cells": [
  {
   "cell_type": "code",
   "execution_count": null,
   "metadata": {},
   "outputs": [],
   "source": [
    "# Import required libraries\n",
    "import torch\n",
    "import os\n",
    "from glob import glob\n",
    "import soundfile as sf\n",
    "from tqdm import tqdm "
   ]
  },
  {
   "cell_type": "code",
   "execution_count": null,
   "metadata": {},
   "outputs": [
    {
     "name": "stderr",
     "output_type": "stream",
     "text": [
      "Downloading: \"https://github.com/snakers4/silero-vad/zipball/master\" to C:\\Users\\ganes/.cache\\torch\\hub\\master.zip\n"
     ]
    }
   ],
   "source": [
    "# Load Silero Voice Activity Detection (VAD) model from torch hub\n",
    "# This model detects speech regions in audio files\n",
    "model, utils = torch.hub.load(repo_or_dir='snakers4/silero-vad',\n",
    "                              model='silero_vad',\n",
    "                              force_reload=True)\n",
    "\n",
    "# Extract utility functions from the loaded model\n",
    "# get_speech_timestamps: finds speech segments in audio\n",
    "# read_audio: loads audio files with proper format for VAD\n",
    "(get_speech_timestamps, _, read_audio, *_) = utils"
   ]
  },
  {
   "cell_type": "code",
   "execution_count": null,
   "metadata": {},
   "outputs": [],
   "source": [
    "# VAD parameters configuration\n",
    "sampling_rate = 16000  # Standard rate for speech models (16kHz)\n",
    "buffer_time = 0.3      # Add 300ms padding before/after speech segments\n",
    "buffer_samples = int(buffer_time * sampling_rate)  # Convert time to samples"
   ]
  },
  {
   "cell_type": "code",
   "execution_count": null,
   "metadata": {},
   "outputs": [],
   "source": [
    "# Define input and output directories\n",
    "audio_dir = \"Dataset/Training/Audio\"               # Source audio files\n",
    "output_dir = \"Dataset/Training/Audio Denoise VAD\"  # Processed output\n",
    "os.makedirs(output_dir, exist_ok=True)             # Create output dir if needed"
   ]
  },
  {
   "cell_type": "code",
   "execution_count": null,
   "metadata": {},
   "outputs": [],
   "source": [
    "# Merge overlapping or close speech segments\n",
    "def merge_speech_segments(segments, buffer_samples):\n",
    "    \"\"\"\n",
    "    Combines speech segments that are close together or overlapping.\n",
    "    This prevents choppy audio by keeping nearby segments as one.\n",
    "    \"\"\"\n",
    "    if not segments:\n",
    "        return []\n",
    "\n",
    "    merged = []\n",
    "    # Initialize first segment with buffer\n",
    "    prev = {\"start\": max(0, segments[0][\"start\"] - buffer_samples),\n",
    "            \"end\": min(segments[0][\"end\"] + buffer_samples, len(wav))}\n",
    "\n",
    "    for i in range(1, len(segments)):\n",
    "        # Add buffer to current segment\n",
    "        start = max(0, segments[i][\"start\"] - buffer_samples)\n",
    "        end = min(segments[i][\"end\"] + buffer_samples, len(wav))\n",
    "\n",
    "        # If segments overlap, extend the previous one\n",
    "        if start <= prev[\"end\"]:\n",
    "            prev[\"end\"] = max(prev[\"end\"], end)\n",
    "        else:\n",
    "            # No overlap, save previous and start new segment\n",
    "            merged.append(prev)\n",
    "            prev = {\"start\": start, \"end\": end}\n",
    "\n",
    "    merged.append(prev)\n",
    "    return merged"
   ]
  },
  {
   "cell_type": "code",
   "execution_count": null,
   "metadata": {},
   "outputs": [
    {
     "name": "stderr",
     "output_type": "stream",
     "text": [
      "Processing Audio Files: 100%|██████████| 908/908 [02:14<00:00,  6.74it/s]"
     ]
    },
    {
     "name": "stdout",
     "output_type": "stream",
     "text": [
      "Speech regions extracted and saved successfully!\n"
     ]
    },
    {
     "name": "stderr",
     "output_type": "stream",
     "text": [
      "\n"
     ]
    }
   ],
   "source": [
    "# Process all WAV files in the directory\n",
    "for audio_path in tqdm(glob(os.path.join(audio_dir, \"*.wav\")), desc=\"Processing Audio Files\"):\n",
    "\n",
    "    # Load audio file at specified sampling rate\n",
    "    wav = read_audio(audio_path, sampling_rate=sampling_rate)\n",
    "    \n",
    "    # Detect speech segments using VAD model\n",
    "    speech_timestamps = get_speech_timestamps(wav, model, sampling_rate=sampling_rate)\n",
    "\n",
    "    # Skip files with no detected speech\n",
    "    if not speech_timestamps:\n",
    "        continue\n",
    "\n",
    "    # Merge segments that are close together\n",
    "    merged_speech_timestamps = merge_speech_segments(speech_timestamps, buffer_samples)\n",
    "\n",
    "    # Extract audio from speech regions only\n",
    "    speech_audio = [wav[segment[\"start\"]:segment[\"end\"]] for segment in merged_speech_timestamps]\n",
    "\n",
    "    # Concatenate all speech segments and save\n",
    "    if speech_audio:\n",
    "        speech_audio = torch.cat(speech_audio)  # Combine all segments\n",
    "        # Save to output directory with same filename\n",
    "        sf.write(os.path.join(output_dir, os.path.basename(audio_path)), \n",
    "                speech_audio.numpy(), samplerate=sampling_rate)\n",
    "\n",
    "print(\"Speech regions extracted and saved successfully!\")"
   ]
  }
 ],
 "metadata": {
  "kernelspec": {
   "display_name": "TorchEnv2",
   "language": "python",
   "name": "python3"
  },
  "language_info": {
   "codemirror_mode": {
    "name": "ipython",
    "version": 3
   },
   "file_extension": ".py",
   "mimetype": "text/x-python",
   "name": "python",
   "nbconvert_exporter": "python",
   "pygments_lexer": "ipython3",
   "version": "3.12.9"
  }
 },
 "nbformat": 4,
 "nbformat_minor": 2
}
